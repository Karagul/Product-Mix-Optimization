{
 "cells": [
  {
   "cell_type": "markdown",
   "metadata": {},
   "source": [
    "# Case Study: PC Tech Company\n",
    "\n",
    "\n",
    "### Problem statement\n",
    " \n",
    "The PC Tech company assembles and then tests two models of computers, Basic and XP.\n",
    "For the coming month, the company wants to decide how many of each model to\n",
    "assembly and then test. No computers are in inventory from the previous month, and\n",
    "because these models are going to be changed after this month, the company doesn’t want\n",
    "to hold any inventory after this month. It believes the most it can sell this month are 600\n",
    "Basics and 1200 XPs. Each Basic sells for \\\\$300 and each XP sells for \\\\$450. The cost of\n",
    "component parts for a Basic is \\\\$150; for an XP it is \\\\$225. Labor is required for assembly\n",
    "and testing. There are at most 10,000 assembly hours and 3000 testing hours available. Each\n",
    "labor hour for assembling costs \\\\$11 and each labor hour for testing costs \\\\$15. Each Basic\n",
    "requires five hours for assembling and one hour for testing, and each XP requires six hours\n",
    "for assembling and two hours for testing. PC Tech wants to know how many of each model\n",
    "it should produce (assemble and test) to maximize its net profit, but it cannot use more labor\n",
    "hours than are available, and it does not want to produce more than it can sell."
   ]
  },
  {
   "cell_type": "markdown",
   "metadata": {},
   "source": [
    "### Creating a mathematical model using linear algebra"
   ]
  },
  {
   "cell_type": "markdown",
   "metadata": {},
   "source": [
    "#### Parameters\n",
    " \n",
    "$S_{i}$ = Maximum number of model type i computers to sell this month, where i $\\in$ { Basic, XP } <br>\n",
    "$P_{i}$ = Sell price of model type i computers, where i $\\in$ { Basic, XP } <br>\n",
    "$C_{i}$ = Cost price of component parts for model type i computers, where i $\\in$ { Basic, XP } <br>\n",
    "$A_{i}$ = Assembly labor cost per hour of model type i computers, where i $\\in$ { Basic, XP } <br>\n",
    "$T_{i}$ = Testing labor cost per hour of model type i computers, where i $\\in$ { Basic, XP } <br>\n",
    "$A$ = Maximum assembly labor hours <br>\n",
    "$T$ = Maximum testing labor hours <br>\n",
    "$H_{A,i}$ = Assembly hours required for building each model type i computer, where i $\\in$ { Basic, XP } <br>\n",
    "$H_{T,i}$ = Testing hours required for building each model type i computer, where i $\\in$ { Basic, XP } <br>"
   ]
  },
  {
   "cell_type": "markdown",
   "metadata": {},
   "source": [
    "#### Decision Variables\n",
    " \n",
    "$x_{i}$ = How many model type i computers to produce this month, where i $\\in$ { Basic, XP }"
   ]
  },
  {
   "cell_type": "markdown",
   "metadata": {},
   "source": [
    "#### Objective Function\n",
    " \n",
    "The objective is to maximize total profit.<br>\n",
    "\n",
    "#### *<center>Total Profit = Sell Price - Assembly Cost - Testing Cost - Component Buying Cost </center>* <br>\n",
    "\n",
    "$$Total Profit = \\sum_{i \\in { Basic, XP }} x_{i} * P_{i}   -   \\sum_{i \\in { Basic, XP }} x_{i} * H_{A,i} * A_{i}  - \\sum_{i \\in { Basic, XP }} x_{i} * H_{T,i} * T_{i}   - \\sum_{i \\in { Basic, XP }} x_{i} * C_{i} $$"
   ]
  },
  {
   "cell_type": "markdown",
   "metadata": {},
   "source": [
    "#### Constraints\n",
    "\n",
    "Number of model type i computers to produce cannot be a negative number. <br>\n",
    "<center>$x_{i} \\geq 0$, where i $\\in$ { Basic, XP }</center><br><br>\n",
    "Total number of assembly hours cannot be greater than the maximum available assembly labor hours. <br>\n",
    "<center>$\\sum_{i \\in { Basic, XP }} x_{i} * H_{A,i} \\leq A$</center>  <br><br>\n",
    "Total number of testing hours cannot be greater than the maximum available testing labor hours. <br>\n",
    "<center>$\\sum_{i \\in { Basic, XP }} x_{i} * H_{T,i} \\leq T$</center>  <br><br>\n",
    "Number of model type i computers to produce cannot be greater than the maximum number of model type i computers to sell this month. <br>\n",
    "<center>$x_{i} \\leq S_{i}$, where i $\\in$ { Basic, XP }</center><br><br>"
   ]
  },
  {
   "cell_type": "markdown",
   "metadata": {},
   "source": [
    "### Implementing mathematical model in Python"
   ]
  },
  {
   "cell_type": "markdown",
   "metadata": {},
   "source": [
    "#### Parameters"
   ]
  },
  {
   "cell_type": "code",
   "execution_count": 1,
   "metadata": {},
   "outputs": [],
   "source": [
    "s_b=600 #Maximum number of model type Basic computers to sell this month\n",
    "s_x=1200 #Maximum number of model type XP computers to sell this month\n",
    "p_b=300 #Sell price of model type Basic computers\n",
    "p_x=450 #Sell price of model type XP computers\n",
    "c_b=150 #Cost price of component parts for model type Basic computers\n",
    "c_x=225 #Cost price of component parts for model type XP computers\n",
    "A_b=11 #Assembly labor cost per hour of model type Basic computers\n",
    "A_x=11 #Assembly labor cost per hour of model type XP computers\n",
    "T_b=15 #Testing labor cost per hour of model type Basic computers\n",
    "T_x=15 #Testing labor cost per hour of model type XP computers\n",
    "A=10000 #Maximum assembly labor hours \n",
    "T=3000 #Maximum testing labor hours \n",
    "H_A_b=5 #Assembly hours required for building each model type Basic computer\n",
    "H_A_x=6 #Assembly hours required for building each model type XP computer\n",
    "H_T_b=1 #Testing hours required for building each model type Basic computer\n",
    "H_T_x=2 #Testing hours required for building each model type XP computer"
   ]
  },
  {
   "cell_type": "markdown",
   "metadata": {},
   "source": [
    "#### Importing PuLP modeler functions"
   ]
  },
  {
   "cell_type": "code",
   "execution_count": 2,
   "metadata": {},
   "outputs": [],
   "source": [
    "from pulp import *"
   ]
  },
  {
   "cell_type": "markdown",
   "metadata": {},
   "source": [
    "#### Creating main problem variable for adding problem data and maximizing objective function"
   ]
  },
  {
   "cell_type": "code",
   "execution_count": 3,
   "metadata": {},
   "outputs": [],
   "source": [
    "problem=LpProblem(\"Product Mix for PC Tech\",LpMaximize)"
   ]
  },
  {
   "cell_type": "markdown",
   "metadata": {},
   "source": [
    "#### Creating decision variables and adding them to the main problem variable"
   ]
  },
  {
   "cell_type": "code",
   "execution_count": 4,
   "metadata": {},
   "outputs": [],
   "source": [
    "x_b=LpVariable(\"Amount of Basic\",0,None,LpInteger)\n",
    "x_x=LpVariable(\"Amount of XP\",0,None,LpInteger)"
   ]
  },
  {
   "cell_type": "markdown",
   "metadata": {},
   "source": [
    "#### Defining objective function to maximize profit and adding it to the main problem variable"
   ]
  },
  {
   "cell_type": "code",
   "execution_count": 5,
   "metadata": {},
   "outputs": [],
   "source": [
    "p1= x_b*p_b + x_x*p_x #Sell Price\n",
    "n1= x_b*H_A_b*A_b + x_x*H_A_x*A_x #Assembly Cost\n",
    "n2= x_b*H_T_b*T_b + x_x*H_T_x*T_x #Testing Cost\n",
    "n3= x_b*c_b + x_x*c_x #Component Cost\n",
    "problem += p1-n1-n2-n3 #Profit = Sell Price - Assembly Cost - Testing Cost - Component Cost"
   ]
  },
  {
   "cell_type": "markdown",
   "metadata": {},
   "source": [
    "#### Constraints"
   ]
  },
  {
   "cell_type": "code",
   "execution_count": 6,
   "metadata": {},
   "outputs": [],
   "source": [
    "problem += x_b*H_A_b + x_x*H_A_x <= A,\"Max Assembly Hours\"\n",
    "problem += x_b*H_T_b + x_x*H_T_x <= T,\"Max Testing Hours\"\n",
    "problem += x_b<=s_b,\"Production less than or equal to demand for Basic\"\n",
    "problem += x_x<=s_x,\"Production less than or equal to  demand for XP\""
   ]
  },
  {
   "cell_type": "markdown",
   "metadata": {},
   "source": [
    "#### Solving the optimization problem"
   ]
  },
  {
   "cell_type": "code",
   "execution_count": 7,
   "metadata": {},
   "outputs": [],
   "source": [
    "problem.solve();"
   ]
  },
  {
   "cell_type": "markdown",
   "metadata": {},
   "source": [
    "#### Printing the results"
   ]
  },
  {
   "cell_type": "code",
   "execution_count": 8,
   "metadata": {
    "scrolled": true
   },
   "outputs": [
    {
     "name": "stdout",
     "output_type": "stream",
     "text": [
      "Maximized Profit:  199600.0\n",
      "Optimum number of Basic to produce:  560.0\n",
      "Optimum number of XP to produce:  1200.0\n"
     ]
    }
   ],
   "source": [
    "print(\"Maximized Profit: \",value(problem.objective))\n",
    "print(\"Optimum number of Basic to produce: \",problem.variables()[0].varValue)\n",
    "print(\"Optimum number of XP to produce: \",problem.variables()[1].varValue)"
   ]
  },
  {
   "cell_type": "markdown",
   "metadata": {},
   "source": [
    "#### Conclusion\n",
    "PC Tech Company should produce 560 of computer type Basic and 1200 of computer type XP to achieve maximum profit of \\\\$199,600."
   ]
  }
 ],
 "metadata": {
  "kernelspec": {
   "display_name": "Python 3",
   "language": "python",
   "name": "python3"
  },
  "language_info": {
   "codemirror_mode": {
    "name": "ipython",
    "version": 3
   },
   "file_extension": ".py",
   "mimetype": "text/x-python",
   "name": "python",
   "nbconvert_exporter": "python",
   "pygments_lexer": "ipython3",
   "version": "3.7.1"
  }
 },
 "nbformat": 4,
 "nbformat_minor": 2
}
